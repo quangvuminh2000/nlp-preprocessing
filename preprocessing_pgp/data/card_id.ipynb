{
 "cells": [
  {
   "cell_type": "markdown",
   "id": "5e8d9ec2",
   "metadata": {},
   "source": [
    "# Config & Library setup"
   ]
  },
  {
   "cell_type": "code",
   "execution_count": 1,
   "id": "f1d36178",
   "metadata": {
    "execution": {
     "iopub.execute_input": "2022-11-25T07:00:43.085111Z",
     "iopub.status.busy": "2022-11-25T07:00:43.084777Z",
     "iopub.status.idle": "2022-11-25T07:00:44.099909Z",
     "shell.execute_reply": "2022-11-25T07:00:44.099461Z",
     "shell.execute_reply.started": "2022-11-25T07:00:43.085058Z"
    },
    "tags": []
   },
   "outputs": [],
   "source": [
    "import pandas as pd\n",
    "import numpy as np\n",
    "from tqdm import tqdm\n",
    "from pyarrow import fs\n",
    "import pyarrow.parquet as pq\n",
    "\n",
    "pd.options.mode.chained_assignment = None\n",
    "pd.set_option('display.max_columns', None)\n",
    "\n",
    "tqdm.pandas()"
   ]
  },
  {
   "cell_type": "code",
   "execution_count": 2,
   "id": "d4595f2c",
   "metadata": {
    "execution": {
     "iopub.execute_input": "2022-11-25T07:00:44.101025Z",
     "iopub.status.busy": "2022-11-25T07:00:44.100744Z",
     "iopub.status.idle": "2022-11-25T07:00:44.103389Z",
     "shell.execute_reply": "2022-11-25T07:00:44.103033Z",
     "shell.execute_reply.started": "2022-11-25T07:00:44.101008Z"
    },
    "tags": []
   },
   "outputs": [],
   "source": [
    "from string import capwords\n",
    "import os\n",
    "import json\n",
    "import subprocess\n",
    "\n",
    "os.environ['CUDA_VISIBLE_DEVICES'] = ''"
   ]
  },
  {
   "cell_type": "code",
   "execution_count": 3,
   "id": "bb589f40",
   "metadata": {
    "execution": {
     "iopub.execute_input": "2022-11-25T07:00:44.104004Z",
     "iopub.status.busy": "2022-11-25T07:00:44.103866Z",
     "iopub.status.idle": "2022-11-25T07:00:46.618817Z",
     "shell.execute_reply": "2022-11-25T07:00:46.618096Z",
     "shell.execute_reply.started": "2022-11-25T07:00:44.103991Z"
    },
    "tags": []
   },
   "outputs": [
    {
     "name": "stderr",
     "output_type": "stream",
     "text": [
      "2022-11-25 14:00:45,678 WARN util.NativeCodeLoader: Unable to load native-hadoop library for your platform... using builtin-java classes where applicable\n"
     ]
    }
   ],
   "source": [
    "os.environ['HADOOP_CONF_DIR'] = \"/etc/hadoop/conf/\"\n",
    "os.environ['JAVA_HOME'] = \"/usr/jdk64/jdk1.8.0_112\"\n",
    "os.environ['HADOOP_HOME'] = \"/usr/hdp/3.1.0.0-78/hadoop\"\n",
    "os.environ['ARROW_LIBHDFS_DIR'] = \"/usr/hdp/3.1.0.0-78/usr/lib/\"\n",
    "os.environ['CLASSPATH'] = subprocess.check_output(\"$HADOOP_HOME/bin/hadoop classpath --glob\", shell=True).decode('utf-8')\n",
    "\n",
    "hdfs = fs.HadoopFileSystem(host=\"hdfs://hdfs-cluster.datalake.bigdata.local\", port=8020)"
   ]
  },
  {
   "cell_type": "code",
   "execution_count": 4,
   "id": "7f1c422b",
   "metadata": {
    "execution": {
     "iopub.execute_input": "2022-11-25T07:00:46.620499Z",
     "iopub.status.busy": "2022-11-25T07:00:46.620193Z",
     "iopub.status.idle": "2022-11-25T07:00:46.631915Z",
     "shell.execute_reply": "2022-11-25T07:00:46.631399Z",
     "shell.execute_reply.started": "2022-11-25T07:00:46.620478Z"
    },
    "tags": []
   },
   "outputs": [],
   "source": [
    "import multiprocessing as mp\n",
    "NPROCESSES=20"
   ]
  },
  {
   "cell_type": "code",
   "execution_count": 5,
   "id": "ad7fbce9",
   "metadata": {
    "execution": {
     "iopub.execute_input": "2022-11-25T07:00:46.632800Z",
     "iopub.status.busy": "2022-11-25T07:00:46.632620Z",
     "iopub.status.idle": "2022-11-25T07:00:47.159541Z",
     "shell.execute_reply": "2022-11-25T07:00:47.158947Z",
     "shell.execute_reply.started": "2022-11-25T07:00:46.632778Z"
    },
    "tags": []
   },
   "outputs": [],
   "source": [
    "from pprint import pprint"
   ]
  },
  {
   "cell_type": "markdown",
   "id": "f47a9dfc",
   "metadata": {},
   "source": [
    "# Public data to classify valid card_id"
   ]
  },
  {
   "cell_type": "code",
   "execution_count": 6,
   "id": "ff1d0448",
   "metadata": {
    "execution": {
     "iopub.execute_input": "2022-11-25T07:11:06.771462Z",
     "iopub.status.busy": "2022-11-25T07:11:06.770750Z",
     "iopub.status.idle": "2022-11-25T07:11:09.221453Z",
     "shell.execute_reply": "2022-11-25T07:11:09.220765Z",
     "shell.execute_reply.started": "2022-11-25T07:11:06.771437Z"
    }
   },
   "outputs": [
    {
     "data": {
      "text/plain": [
       "(5978928, 1)"
      ]
     },
     "execution_count": 6,
     "metadata": {},
     "output_type": "execute_result"
    }
   ],
   "source": [
    "card_id = pd.read_parquet('./data/raw/card_id/Quang_id_card.parquet')\n",
    "card_id.shape"
   ]
  },
  {
   "cell_type": "code",
   "execution_count": 7,
   "id": "2cb066dc",
   "metadata": {
    "execution": {
     "iopub.execute_input": "2022-11-25T07:12:15.815530Z",
     "iopub.status.busy": "2022-11-25T07:12:15.814815Z",
     "iopub.status.idle": "2022-11-25T07:12:15.930310Z",
     "shell.execute_reply": "2022-11-25T07:12:15.929772Z",
     "shell.execute_reply.started": "2022-11-25T07:12:15.815506Z"
    }
   },
   "outputs": [
    {
     "data": {
      "text/html": [
       "<div>\n",
       "<style scoped>\n",
       "    .dataframe tbody tr th:only-of-type {\n",
       "        vertical-align: middle;\n",
       "    }\n",
       "\n",
       "    .dataframe tbody tr th {\n",
       "        vertical-align: top;\n",
       "    }\n",
       "\n",
       "    .dataframe thead th {\n",
       "        text-align: right;\n",
       "    }\n",
       "</style>\n",
       "<table border=\"1\" class=\"dataframe\">\n",
       "  <thead>\n",
       "    <tr style=\"text-align: right;\">\n",
       "      <th></th>\n",
       "      <th>id_card</th>\n",
       "    </tr>\n",
       "  </thead>\n",
       "  <tbody>\n",
       "    <tr>\n",
       "      <th>0</th>\n",
       "      <td>035092001221</td>\n",
       "    </tr>\n",
       "    <tr>\n",
       "      <th>1</th>\n",
       "      <td>142267087</td>\n",
       "    </tr>\n",
       "    <tr>\n",
       "      <th>2</th>\n",
       "      <td>151536372</td>\n",
       "    </tr>\n",
       "    <tr>\n",
       "      <th>3</th>\n",
       "      <td>291009202</td>\n",
       "    </tr>\n",
       "    <tr>\n",
       "      <th>4</th>\n",
       "      <td>273587795</td>\n",
       "    </tr>\n",
       "    <tr>\n",
       "      <th>...</th>\n",
       "      <td>...</td>\n",
       "    </tr>\n",
       "    <tr>\n",
       "      <th>6812435</th>\n",
       "      <td>079199004057</td>\n",
       "    </tr>\n",
       "    <tr>\n",
       "      <th>6812436</th>\n",
       "      <td>091199008474</td>\n",
       "    </tr>\n",
       "    <tr>\n",
       "      <th>6812437</th>\n",
       "      <td>371894707</td>\n",
       "    </tr>\n",
       "    <tr>\n",
       "      <th>6812439</th>\n",
       "      <td>094196010727</td>\n",
       "    </tr>\n",
       "    <tr>\n",
       "      <th>6812460</th>\n",
       "      <td>024198003370</td>\n",
       "    </tr>\n",
       "  </tbody>\n",
       "</table>\n",
       "<p>5978928 rows × 1 columns</p>\n",
       "</div>"
      ],
      "text/plain": [
       "              id_card\n",
       "0        035092001221\n",
       "1           142267087\n",
       "2           151536372\n",
       "3           291009202\n",
       "4           273587795\n",
       "...               ...\n",
       "6812435  079199004057\n",
       "6812436  091199008474\n",
       "6812437     371894707\n",
       "6812439  094196010727\n",
       "6812460  024198003370\n",
       "\n",
       "[5978928 rows x 1 columns]"
      ]
     },
     "execution_count": 7,
     "metadata": {},
     "output_type": "execute_result"
    }
   ],
   "source": [
    "card_id"
   ]
  },
  {
   "cell_type": "code",
   "execution_count": 8,
   "id": "89e03f96",
   "metadata": {
    "execution": {
     "iopub.execute_input": "2022-11-25T08:00:03.620463Z",
     "iopub.status.busy": "2022-11-25T08:00:03.619784Z",
     "iopub.status.idle": "2022-11-25T08:00:03.661511Z",
     "shell.execute_reply": "2022-11-25T08:00:03.661046Z",
     "shell.execute_reply.started": "2022-11-25T08:00:03.620441Z"
    }
   },
   "outputs": [
    {
     "data": {
      "text/html": [
       "<div>\n",
       "<style scoped>\n",
       "    .dataframe tbody tr th:only-of-type {\n",
       "        vertical-align: middle;\n",
       "    }\n",
       "\n",
       "    .dataframe tbody tr th {\n",
       "        vertical-align: top;\n",
       "    }\n",
       "\n",
       "    .dataframe thead th {\n",
       "        text-align: right;\n",
       "    }\n",
       "</style>\n",
       "<table border=\"1\" class=\"dataframe\">\n",
       "  <thead>\n",
       "    <tr style=\"text-align: right;\">\n",
       "      <th></th>\n",
       "      <th>city</th>\n",
       "      <th>code</th>\n",
       "    </tr>\n",
       "  </thead>\n",
       "  <tbody>\n",
       "    <tr>\n",
       "      <th>0</th>\n",
       "      <td>Hà Nội</td>\n",
       "      <td>001</td>\n",
       "    </tr>\n",
       "    <tr>\n",
       "      <th>1</th>\n",
       "      <td>Hà Giang</td>\n",
       "      <td>002</td>\n",
       "    </tr>\n",
       "    <tr>\n",
       "      <th>2</th>\n",
       "      <td>Cao Bằng</td>\n",
       "      <td>004</td>\n",
       "    </tr>\n",
       "    <tr>\n",
       "      <th>3</th>\n",
       "      <td>Bắc Kạn</td>\n",
       "      <td>006</td>\n",
       "    </tr>\n",
       "    <tr>\n",
       "      <th>4</th>\n",
       "      <td>Tuyên Quang</td>\n",
       "      <td>008</td>\n",
       "    </tr>\n",
       "    <tr>\n",
       "      <th>...</th>\n",
       "      <td>...</td>\n",
       "      <td>...</td>\n",
       "    </tr>\n",
       "    <tr>\n",
       "      <th>58</th>\n",
       "      <td>Cần Thơ</td>\n",
       "      <td>092</td>\n",
       "    </tr>\n",
       "    <tr>\n",
       "      <th>59</th>\n",
       "      <td>Hậu Giang</td>\n",
       "      <td>093</td>\n",
       "    </tr>\n",
       "    <tr>\n",
       "      <th>60</th>\n",
       "      <td>Sóc Trăng</td>\n",
       "      <td>094</td>\n",
       "    </tr>\n",
       "    <tr>\n",
       "      <th>61</th>\n",
       "      <td>Bạc Liêu</td>\n",
       "      <td>095</td>\n",
       "    </tr>\n",
       "    <tr>\n",
       "      <th>62</th>\n",
       "      <td>Cà Mau</td>\n",
       "      <td>096</td>\n",
       "    </tr>\n",
       "  </tbody>\n",
       "</table>\n",
       "<p>63 rows × 2 columns</p>\n",
       "</div>"
      ],
      "text/plain": [
       "           city code\n",
       "0        Hà Nội  001\n",
       "1      Hà Giang  002\n",
       "2      Cao Bằng  004\n",
       "3       Bắc Kạn  006\n",
       "4   Tuyên Quang  008\n",
       "..          ...  ...\n",
       "58      Cần Thơ  092\n",
       "59    Hậu Giang  093\n",
       "60    Sóc Trăng  094\n",
       "61     Bạc Liêu  095\n",
       "62       Cà Mau  096\n",
       "\n",
       "[63 rows x 2 columns]"
      ]
     },
     "execution_count": 8,
     "metadata": {},
     "output_type": "execute_result"
    }
   ],
   "source": [
    "new_region_code = pd.read_parquet('./data/public/card_id/new_region_code.parquet')\n",
    "new_region_code"
   ]
  },
  {
   "cell_type": "code",
   "execution_count": 9,
   "id": "3f8e5c4c",
   "metadata": {
    "execution": {
     "iopub.execute_input": "2022-11-25T08:21:09.206301Z",
     "iopub.status.busy": "2022-11-25T08:21:09.205882Z",
     "iopub.status.idle": "2022-11-25T08:21:09.254686Z",
     "shell.execute_reply": "2022-11-25T08:21:09.254263Z",
     "shell.execute_reply.started": "2022-11-25T08:21:09.206281Z"
    }
   },
   "outputs": [
    {
     "data": {
      "text/html": [
       "<div>\n",
       "<style scoped>\n",
       "    .dataframe tbody tr th:only-of-type {\n",
       "        vertical-align: middle;\n",
       "    }\n",
       "\n",
       "    .dataframe tbody tr th {\n",
       "        vertical-align: top;\n",
       "    }\n",
       "\n",
       "    .dataframe thead th {\n",
       "        text-align: right;\n",
       "    }\n",
       "</style>\n",
       "<table border=\"1\" class=\"dataframe\">\n",
       "  <thead>\n",
       "    <tr style=\"text-align: right;\">\n",
       "      <th></th>\n",
       "      <th>city</th>\n",
       "      <th>code</th>\n",
       "    </tr>\n",
       "  </thead>\n",
       "  <tbody>\n",
       "    <tr>\n",
       "      <th>0</th>\n",
       "      <td>TP Hà Nội</td>\n",
       "      <td>01</td>\n",
       "    </tr>\n",
       "    <tr>\n",
       "      <th>1</th>\n",
       "      <td>Quảng Ninh</td>\n",
       "      <td>10</td>\n",
       "    </tr>\n",
       "    <tr>\n",
       "      <th>2</th>\n",
       "      <td>Quảng Nam</td>\n",
       "      <td>20</td>\n",
       "    </tr>\n",
       "    <tr>\n",
       "      <th>3</th>\n",
       "      <td>Long An</td>\n",
       "      <td>30</td>\n",
       "    </tr>\n",
       "    <tr>\n",
       "      <th>4</th>\n",
       "      <td>TP Hồ Chí Minh</td>\n",
       "      <td>02</td>\n",
       "    </tr>\n",
       "    <tr>\n",
       "      <th>...</th>\n",
       "      <td>...</td>\n",
       "      <td>...</td>\n",
       "    </tr>\n",
       "    <tr>\n",
       "      <th>60</th>\n",
       "      <td>Bình Dương</td>\n",
       "      <td>280-281</td>\n",
       "    </tr>\n",
       "    <tr>\n",
       "      <th>61</th>\n",
       "      <td>Quảng Trị</td>\n",
       "      <td>19</td>\n",
       "    </tr>\n",
       "    <tr>\n",
       "      <th>62</th>\n",
       "      <td>Bình Phước</td>\n",
       "      <td>285</td>\n",
       "    </tr>\n",
       "    <tr>\n",
       "      <th>63</th>\n",
       "      <td>Thừa Thiên-Huế</td>\n",
       "      <td>19</td>\n",
       "    </tr>\n",
       "    <tr>\n",
       "      <th>64</th>\n",
       "      <td>Tây Ninh</td>\n",
       "      <td>29</td>\n",
       "    </tr>\n",
       "  </tbody>\n",
       "</table>\n",
       "<p>65 rows × 2 columns</p>\n",
       "</div>"
      ],
      "text/plain": [
       "              city     code\n",
       "0        TP Hà Nội       01\n",
       "1       Quảng Ninh       10\n",
       "2        Quảng Nam       20\n",
       "3          Long An       30\n",
       "4   TP Hồ Chí Minh       02\n",
       "..             ...      ...\n",
       "60      Bình Dương  280-281\n",
       "61       Quảng Trị       19\n",
       "62      Bình Phước      285\n",
       "63  Thừa Thiên-Huế       19\n",
       "64        Tây Ninh       29\n",
       "\n",
       "[65 rows x 2 columns]"
      ]
     },
     "execution_count": 9,
     "metadata": {},
     "output_type": "execute_result"
    }
   ],
   "source": [
    "unclean_old_region_code = pd.read_parquet('./data/public/card_id/unclean_old_codes.parquet')\n",
    "unclean_old_region_code"
   ]
  },
  {
   "cell_type": "markdown",
   "id": "aa330c50",
   "metadata": {},
   "source": [
    "* Hà Tây"
   ]
  },
  {
   "cell_type": "code",
   "execution_count": 16,
   "id": "8954678b",
   "metadata": {
    "execution": {
     "iopub.execute_input": "2022-11-25T08:25:29.287704Z",
     "iopub.status.busy": "2022-11-25T08:25:29.287016Z",
     "iopub.status.idle": "2022-11-25T08:25:29.293909Z",
     "shell.execute_reply": "2022-11-25T08:25:29.293443Z",
     "shell.execute_reply.started": "2022-11-25T08:25:29.287681Z"
    },
    "tags": []
   },
   "outputs": [
    {
     "data": {
      "text/html": [
       "<div>\n",
       "<style scoped>\n",
       "    .dataframe tbody tr th:only-of-type {\n",
       "        vertical-align: middle;\n",
       "    }\n",
       "\n",
       "    .dataframe tbody tr th {\n",
       "        vertical-align: top;\n",
       "    }\n",
       "\n",
       "    .dataframe thead th {\n",
       "        text-align: right;\n",
       "    }\n",
       "</style>\n",
       "<table border=\"1\" class=\"dataframe\">\n",
       "  <thead>\n",
       "    <tr style=\"text-align: right;\">\n",
       "      <th></th>\n",
       "      <th>city</th>\n",
       "      <th>code</th>\n",
       "    </tr>\n",
       "  </thead>\n",
       "  <tbody>\n",
       "    <tr>\n",
       "      <th>5</th>\n",
       "      <td>Hà Tây 11</td>\n",
       "      <td>11</td>\n",
       "    </tr>\n",
       "  </tbody>\n",
       "</table>\n",
       "</div>"
      ],
      "text/plain": [
       "        city code\n",
       "5  Hà Tây 11   11"
      ]
     },
     "execution_count": 16,
     "metadata": {},
     "output_type": "execute_result"
    }
   ],
   "source": [
    "non_number_mask = unclean_old_region_code['code'] == \"(cũ)\"\n",
    "unclean_old_region_code.loc[\n",
    "    non_number_mask,\n",
    "    'code'\n",
    "] = 11\n",
    "unclean_old_region_code.loc[\n",
    "    non_number_mask,\n",
    "    'city'\n",
    "] = 'Hà Tây'"
   ]
  },
  {
   "cell_type": "markdown",
   "id": "5e39ec6a",
   "metadata": {},
   "source": [
    "* Thái Nguyên, Bình Dương"
   ]
  },
  {
   "cell_type": "code",
   "execution_count": 41,
   "id": "ce7b4ed1",
   "metadata": {
    "execution": {
     "iopub.execute_input": "2022-11-25T08:48:33.662635Z",
     "iopub.status.busy": "2022-11-25T08:48:33.662334Z",
     "iopub.status.idle": "2022-11-25T08:48:33.668606Z",
     "shell.execute_reply": "2022-11-25T08:48:33.668155Z",
     "shell.execute_reply.started": "2022-11-25T08:48:33.662618Z"
    },
    "tags": []
   },
   "outputs": [
    {
     "data": {
      "text/html": [
       "<div>\n",
       "<style scoped>\n",
       "    .dataframe tbody tr th:only-of-type {\n",
       "        vertical-align: middle;\n",
       "    }\n",
       "\n",
       "    .dataframe tbody tr th {\n",
       "        vertical-align: top;\n",
       "    }\n",
       "\n",
       "    .dataframe thead th {\n",
       "        text-align: right;\n",
       "    }\n",
       "</style>\n",
       "<table border=\"1\" class=\"dataframe\">\n",
       "  <thead>\n",
       "    <tr style=\"text-align: right;\">\n",
       "      <th></th>\n",
       "      <th>city</th>\n",
       "      <th>code</th>\n",
       "    </tr>\n",
       "  </thead>\n",
       "  <tbody>\n",
       "    <tr>\n",
       "      <th>26</th>\n",
       "      <td>Gia Lai</td>\n",
       "      <td>230-231</td>\n",
       "    </tr>\n",
       "    <tr>\n",
       "      <th>62</th>\n",
       "      <td>Thái Nguyên</td>\n",
       "      <td>090</td>\n",
       "    </tr>\n",
       "    <tr>\n",
       "      <th>63</th>\n",
       "      <td>Thái Nguyên</td>\n",
       "      <td>091</td>\n",
       "    </tr>\n",
       "    <tr>\n",
       "      <th>64</th>\n",
       "      <td>Thái Nguyên</td>\n",
       "      <td>092</td>\n",
       "    </tr>\n",
       "    <tr>\n",
       "      <th>65</th>\n",
       "      <td>Bình Dương</td>\n",
       "      <td>280</td>\n",
       "    </tr>\n",
       "    <tr>\n",
       "      <th>66</th>\n",
       "      <td>Bình Dương</td>\n",
       "      <td>281</td>\n",
       "    </tr>\n",
       "  </tbody>\n",
       "</table>\n",
       "</div>"
      ],
      "text/plain": [
       "           city     code\n",
       "26      Gia Lai  230-231\n",
       "62  Thái Nguyên      090\n",
       "63  Thái Nguyên      091\n",
       "64  Thái Nguyên      092\n",
       "65   Bình Dương      280\n",
       "66   Bình Dương      281"
      ]
     },
     "execution_count": 41,
     "metadata": {},
     "output_type": "execute_result"
    }
   ],
   "source": [
    "cities_mask = unclean_old_region_code['city'].str.contains('Thái Nguyên|Bình Dương|Gia Lai')\n",
    "unclean_old_region_code[cities_mask]"
   ]
  },
  {
   "cell_type": "code",
   "execution_count": 42,
   "id": "894e33ea",
   "metadata": {
    "execution": {
     "iopub.execute_input": "2022-11-25T08:49:00.246735Z",
     "iopub.status.busy": "2022-11-25T08:49:00.246444Z",
     "iopub.status.idle": "2022-11-25T08:49:00.249424Z",
     "shell.execute_reply": "2022-11-25T08:49:00.249017Z",
     "shell.execute_reply.started": "2022-11-25T08:49:00.246717Z"
    },
    "tags": []
   },
   "outputs": [],
   "source": [
    "new_cities = pd.DataFrame()"
   ]
  },
  {
   "cell_type": "code",
   "execution_count": 43,
   "id": "07d31741",
   "metadata": {
    "execution": {
     "iopub.execute_input": "2022-11-25T08:49:00.404962Z",
     "iopub.status.busy": "2022-11-25T08:49:00.404704Z",
     "iopub.status.idle": "2022-11-25T08:49:00.423285Z",
     "shell.execute_reply": "2022-11-25T08:49:00.422923Z",
     "shell.execute_reply.started": "2022-11-25T08:49:00.404947Z"
    },
    "tags": []
   },
   "outputs": [],
   "source": [
    "new_cities[['city', 'code']] = [\n",
    "    ['Thái Nguyên', '090'],\n",
    "    ['Thái Nguyên', '091'],\n",
    "    ['Thái Nguyên', '092'],\n",
    "    ['Bình Dương', '280'],\n",
    "    ['Bình Dương', '281'],\n",
    "    ['Gia Lai', '230'],\n",
    "    ['Gia Lai', '231'],\n",
    "]"
   ]
  },
  {
   "cell_type": "code",
   "execution_count": 44,
   "id": "915a0a20",
   "metadata": {
    "execution": {
     "iopub.execute_input": "2022-11-25T08:49:01.859097Z",
     "iopub.status.busy": "2022-11-25T08:49:01.858850Z",
     "iopub.status.idle": "2022-11-25T08:49:01.862065Z",
     "shell.execute_reply": "2022-11-25T08:49:01.861677Z",
     "shell.execute_reply.started": "2022-11-25T08:49:01.859081Z"
    },
    "tags": []
   },
   "outputs": [],
   "source": [
    "unclean_old_region_code.drop(unclean_old_region_code[cities_mask].index, inplace=True)"
   ]
  },
  {
   "cell_type": "code",
   "execution_count": 45,
   "id": "f7664a3e",
   "metadata": {
    "execution": {
     "iopub.execute_input": "2022-11-25T08:49:02.035849Z",
     "iopub.status.busy": "2022-11-25T08:49:02.035646Z",
     "iopub.status.idle": "2022-11-25T08:49:03.664520Z",
     "shell.execute_reply": "2022-11-25T08:49:03.664140Z",
     "shell.execute_reply.started": "2022-11-25T08:49:02.035835Z"
    },
    "tags": []
   },
   "outputs": [
    {
     "data": {
      "text/html": [
       "<div>\n",
       "<style scoped>\n",
       "    .dataframe tbody tr th:only-of-type {\n",
       "        vertical-align: middle;\n",
       "    }\n",
       "\n",
       "    .dataframe tbody tr th {\n",
       "        vertical-align: top;\n",
       "    }\n",
       "\n",
       "    .dataframe thead th {\n",
       "        text-align: right;\n",
       "    }\n",
       "</style>\n",
       "<table border=\"1\" class=\"dataframe\">\n",
       "  <thead>\n",
       "    <tr style=\"text-align: right;\">\n",
       "      <th></th>\n",
       "      <th>city</th>\n",
       "      <th>code</th>\n",
       "    </tr>\n",
       "  </thead>\n",
       "  <tbody>\n",
       "    <tr>\n",
       "      <th>0</th>\n",
       "      <td>TP Hà Nội</td>\n",
       "      <td>01</td>\n",
       "    </tr>\n",
       "    <tr>\n",
       "      <th>1</th>\n",
       "      <td>Quảng Ninh</td>\n",
       "      <td>10</td>\n",
       "    </tr>\n",
       "    <tr>\n",
       "      <th>2</th>\n",
       "      <td>Quảng Nam</td>\n",
       "      <td>20</td>\n",
       "    </tr>\n",
       "    <tr>\n",
       "      <th>3</th>\n",
       "      <td>Long An</td>\n",
       "      <td>30</td>\n",
       "    </tr>\n",
       "    <tr>\n",
       "      <th>4</th>\n",
       "      <td>TP Hồ Chí Minh</td>\n",
       "      <td>02</td>\n",
       "    </tr>\n",
       "    <tr>\n",
       "      <th>...</th>\n",
       "      <td>...</td>\n",
       "      <td>...</td>\n",
       "    </tr>\n",
       "    <tr>\n",
       "      <th>65</th>\n",
       "      <td>Thái Nguyên</td>\n",
       "      <td>092</td>\n",
       "    </tr>\n",
       "    <tr>\n",
       "      <th>66</th>\n",
       "      <td>Bình Dương</td>\n",
       "      <td>280</td>\n",
       "    </tr>\n",
       "    <tr>\n",
       "      <th>67</th>\n",
       "      <td>Bình Dương</td>\n",
       "      <td>281</td>\n",
       "    </tr>\n",
       "    <tr>\n",
       "      <th>68</th>\n",
       "      <td>Gia Lai</td>\n",
       "      <td>230</td>\n",
       "    </tr>\n",
       "    <tr>\n",
       "      <th>69</th>\n",
       "      <td>Gia Lai</td>\n",
       "      <td>231</td>\n",
       "    </tr>\n",
       "  </tbody>\n",
       "</table>\n",
       "<p>70 rows × 2 columns</p>\n",
       "</div>"
      ],
      "text/plain": [
       "              city code\n",
       "0        TP Hà Nội   01\n",
       "1       Quảng Ninh   10\n",
       "2        Quảng Nam   20\n",
       "3          Long An   30\n",
       "4   TP Hồ Chí Minh   02\n",
       "..             ...  ...\n",
       "65     Thái Nguyên  092\n",
       "66      Bình Dương  280\n",
       "67      Bình Dương  281\n",
       "68         Gia Lai  230\n",
       "69         Gia Lai  231\n",
       "\n",
       "[70 rows x 2 columns]"
      ]
     },
     "execution_count": 45,
     "metadata": {},
     "output_type": "execute_result"
    }
   ],
   "source": [
    "unclean_old_region_code = pd.concat([\n",
    "    unclean_old_region_code,\n",
    "    new_cities\n",
    "], ignore_index=True)\n",
    "unclean_old_region_code"
   ]
  },
  {
   "cell_type": "markdown",
   "id": "96588af1",
   "metadata": {},
   "source": [
    "* Hải Dương, Hưng Yên"
   ]
  },
  {
   "cell_type": "code",
   "execution_count": 52,
   "id": "9ecc012e",
   "metadata": {
    "execution": {
     "iopub.execute_input": "2022-11-25T08:49:43.995539Z",
     "iopub.status.busy": "2022-11-25T08:49:43.995257Z",
     "iopub.status.idle": "2022-11-25T08:49:44.001174Z",
     "shell.execute_reply": "2022-11-25T08:49:44.000792Z",
     "shell.execute_reply.started": "2022-11-25T08:49:43.995521Z"
    },
    "tags": []
   },
   "outputs": [
    {
     "data": {
      "text/html": [
       "<div>\n",
       "<style scoped>\n",
       "    .dataframe tbody tr th:only-of-type {\n",
       "        vertical-align: middle;\n",
       "    }\n",
       "\n",
       "    .dataframe tbody tr th {\n",
       "        vertical-align: top;\n",
       "    }\n",
       "\n",
       "    .dataframe thead th {\n",
       "        text-align: right;\n",
       "    }\n",
       "</style>\n",
       "<table border=\"1\" class=\"dataframe\">\n",
       "  <thead>\n",
       "    <tr style=\"text-align: right;\">\n",
       "      <th></th>\n",
       "      <th>city</th>\n",
       "      <th>code</th>\n",
       "    </tr>\n",
       "  </thead>\n",
       "  <tbody>\n",
       "    <tr>\n",
       "      <th>68</th>\n",
       "      <td>Hải Dương</td>\n",
       "      <td>14</td>\n",
       "    </tr>\n",
       "    <tr>\n",
       "      <th>69</th>\n",
       "      <td>Hưng Yên</td>\n",
       "      <td>14</td>\n",
       "    </tr>\n",
       "    <tr>\n",
       "      <th>70</th>\n",
       "      <td>Hải Dương</td>\n",
       "      <td>14</td>\n",
       "    </tr>\n",
       "    <tr>\n",
       "      <th>71</th>\n",
       "      <td>Hưng Yên</td>\n",
       "      <td>14</td>\n",
       "    </tr>\n",
       "    <tr>\n",
       "      <th>72</th>\n",
       "      <td>Hải Dương</td>\n",
       "      <td>14</td>\n",
       "    </tr>\n",
       "    <tr>\n",
       "      <th>73</th>\n",
       "      <td>Hưng Yên</td>\n",
       "      <td>14</td>\n",
       "    </tr>\n",
       "  </tbody>\n",
       "</table>\n",
       "</div>"
      ],
      "text/plain": [
       "         city code\n",
       "68  Hải Dương   14\n",
       "69   Hưng Yên   14\n",
       "70  Hải Dương   14\n",
       "71   Hưng Yên   14\n",
       "72  Hải Dương   14\n",
       "73   Hưng Yên   14"
      ]
     },
     "execution_count": 52,
     "metadata": {},
     "output_type": "execute_result"
    }
   ],
   "source": [
    "cities_mask = unclean_old_region_code['code'] == '14'\n",
    "unclean_old_region_code[cities_mask]"
   ]
  },
  {
   "cell_type": "code",
   "execution_count": 53,
   "id": "8ddbcad2",
   "metadata": {
    "execution": {
     "iopub.execute_input": "2022-11-25T08:49:47.120778Z",
     "iopub.status.busy": "2022-11-25T08:49:47.120491Z",
     "iopub.status.idle": "2022-11-25T08:49:47.126981Z",
     "shell.execute_reply": "2022-11-25T08:49:47.126600Z",
     "shell.execute_reply.started": "2022-11-25T08:49:47.120760Z"
    },
    "tags": []
   },
   "outputs": [
    {
     "data": {
      "text/html": [
       "<div>\n",
       "<style scoped>\n",
       "    .dataframe tbody tr th:only-of-type {\n",
       "        vertical-align: middle;\n",
       "    }\n",
       "\n",
       "    .dataframe tbody tr th {\n",
       "        vertical-align: top;\n",
       "    }\n",
       "\n",
       "    .dataframe thead th {\n",
       "        text-align: right;\n",
       "    }\n",
       "</style>\n",
       "<table border=\"1\" class=\"dataframe\">\n",
       "  <thead>\n",
       "    <tr style=\"text-align: right;\">\n",
       "      <th></th>\n",
       "      <th>city</th>\n",
       "      <th>code</th>\n",
       "    </tr>\n",
       "  </thead>\n",
       "  <tbody>\n",
       "    <tr>\n",
       "      <th>0</th>\n",
       "      <td>Hải Dương</td>\n",
       "      <td>14</td>\n",
       "    </tr>\n",
       "    <tr>\n",
       "      <th>1</th>\n",
       "      <td>Hưng Yên</td>\n",
       "      <td>14</td>\n",
       "    </tr>\n",
       "  </tbody>\n",
       "</table>\n",
       "</div>"
      ],
      "text/plain": [
       "        city code\n",
       "0  Hải Dương   14\n",
       "1   Hưng Yên   14"
      ]
     },
     "execution_count": 53,
     "metadata": {},
     "output_type": "execute_result"
    }
   ],
   "source": [
    "new_cities = pd.DataFrame()\n",
    "new_cities[['city', 'code']] = [\n",
    "    ['Hải Dương', '14'],\n",
    "    ['Hưng Yên', '14']\n",
    "]\n",
    "new_cities"
   ]
  },
  {
   "cell_type": "code",
   "execution_count": 54,
   "id": "a7b2e61b",
   "metadata": {
    "execution": {
     "iopub.execute_input": "2022-11-25T08:49:48.401030Z",
     "iopub.status.busy": "2022-11-25T08:49:48.400810Z",
     "iopub.status.idle": "2022-11-25T08:49:48.403947Z",
     "shell.execute_reply": "2022-11-25T08:49:48.403566Z",
     "shell.execute_reply.started": "2022-11-25T08:49:48.401016Z"
    },
    "tags": []
   },
   "outputs": [],
   "source": [
    "unclean_old_region_code.drop(unclean_old_region_code[cities_mask].index, inplace=True)"
   ]
  },
  {
   "cell_type": "code",
   "execution_count": 55,
   "id": "cd141ba6",
   "metadata": {
    "execution": {
     "iopub.execute_input": "2022-11-25T08:49:48.914785Z",
     "iopub.status.busy": "2022-11-25T08:49:48.914577Z",
     "iopub.status.idle": "2022-11-25T08:49:49.026671Z",
     "shell.execute_reply": "2022-11-25T08:49:49.026325Z",
     "shell.execute_reply.started": "2022-11-25T08:49:48.914771Z"
    },
    "tags": []
   },
   "outputs": [
    {
     "data": {
      "text/html": [
       "<div>\n",
       "<style scoped>\n",
       "    .dataframe tbody tr th:only-of-type {\n",
       "        vertical-align: middle;\n",
       "    }\n",
       "\n",
       "    .dataframe tbody tr th {\n",
       "        vertical-align: top;\n",
       "    }\n",
       "\n",
       "    .dataframe thead th {\n",
       "        text-align: right;\n",
       "    }\n",
       "</style>\n",
       "<table border=\"1\" class=\"dataframe\">\n",
       "  <thead>\n",
       "    <tr style=\"text-align: right;\">\n",
       "      <th></th>\n",
       "      <th>city</th>\n",
       "      <th>code</th>\n",
       "    </tr>\n",
       "  </thead>\n",
       "  <tbody>\n",
       "    <tr>\n",
       "      <th>0</th>\n",
       "      <td>TP Hà Nội</td>\n",
       "      <td>01</td>\n",
       "    </tr>\n",
       "    <tr>\n",
       "      <th>1</th>\n",
       "      <td>Quảng Ninh</td>\n",
       "      <td>10</td>\n",
       "    </tr>\n",
       "    <tr>\n",
       "      <th>2</th>\n",
       "      <td>Quảng Nam</td>\n",
       "      <td>20</td>\n",
       "    </tr>\n",
       "    <tr>\n",
       "      <th>3</th>\n",
       "      <td>Long An</td>\n",
       "      <td>30</td>\n",
       "    </tr>\n",
       "    <tr>\n",
       "      <th>4</th>\n",
       "      <td>TP Hồ Chí Minh</td>\n",
       "      <td>02</td>\n",
       "    </tr>\n",
       "    <tr>\n",
       "      <th>...</th>\n",
       "      <td>...</td>\n",
       "      <td>...</td>\n",
       "    </tr>\n",
       "    <tr>\n",
       "      <th>65</th>\n",
       "      <td>Bình Dương</td>\n",
       "      <td>281</td>\n",
       "    </tr>\n",
       "    <tr>\n",
       "      <th>66</th>\n",
       "      <td>Gia Lai</td>\n",
       "      <td>230</td>\n",
       "    </tr>\n",
       "    <tr>\n",
       "      <th>67</th>\n",
       "      <td>Gia Lai</td>\n",
       "      <td>231</td>\n",
       "    </tr>\n",
       "    <tr>\n",
       "      <th>68</th>\n",
       "      <td>Hải Dương</td>\n",
       "      <td>14</td>\n",
       "    </tr>\n",
       "    <tr>\n",
       "      <th>69</th>\n",
       "      <td>Hưng Yên</td>\n",
       "      <td>14</td>\n",
       "    </tr>\n",
       "  </tbody>\n",
       "</table>\n",
       "<p>70 rows × 2 columns</p>\n",
       "</div>"
      ],
      "text/plain": [
       "              city code\n",
       "0        TP Hà Nội   01\n",
       "1       Quảng Ninh   10\n",
       "2        Quảng Nam   20\n",
       "3          Long An   30\n",
       "4   TP Hồ Chí Minh   02\n",
       "..             ...  ...\n",
       "65      Bình Dương  281\n",
       "66         Gia Lai  230\n",
       "67         Gia Lai  231\n",
       "68       Hải Dương   14\n",
       "69        Hưng Yên   14\n",
       "\n",
       "[70 rows x 2 columns]"
      ]
     },
     "execution_count": 55,
     "metadata": {},
     "output_type": "execute_result"
    }
   ],
   "source": [
    "unclean_old_region_code = pd.concat([\n",
    "    unclean_old_region_code,\n",
    "    new_cities\n",
    "], ignore_index=True)\n",
    "unclean_old_region_code"
   ]
  },
  {
   "cell_type": "markdown",
   "id": "cc71d395",
   "metadata": {},
   "source": [
    "## Unify possible code"
   ]
  },
  {
   "cell_type": "code",
   "execution_count": 59,
   "id": "e5af629d",
   "metadata": {
    "execution": {
     "iopub.execute_input": "2022-11-25T08:50:48.675046Z",
     "iopub.status.busy": "2022-11-25T08:50:48.674746Z",
     "iopub.status.idle": "2022-11-25T08:50:48.679195Z",
     "shell.execute_reply": "2022-11-25T08:50:48.678827Z",
     "shell.execute_reply.started": "2022-11-25T08:50:48.675027Z"
    },
    "tags": []
   },
   "outputs": [
    {
     "data": {
      "text/plain": [
       "0      01\n",
       "1      10\n",
       "2      20\n",
       "3      30\n",
       "4      02\n",
       "     ... \n",
       "65    281\n",
       "66    230\n",
       "67    231\n",
       "68     14\n",
       "69     14\n",
       "Name: code, Length: 70, dtype: object"
      ]
     },
     "execution_count": 59,
     "metadata": {},
     "output_type": "execute_result"
    }
   ],
   "source": [
    "unclean_old_region_code['code']"
   ]
  },
  {
   "cell_type": "code",
   "execution_count": 57,
   "id": "e4326344",
   "metadata": {
    "execution": {
     "iopub.execute_input": "2022-11-25T08:50:16.220084Z",
     "iopub.status.busy": "2022-11-25T08:50:16.219806Z",
     "iopub.status.idle": "2022-11-25T08:50:16.223613Z",
     "shell.execute_reply": "2022-11-25T08:50:16.223231Z",
     "shell.execute_reply.started": "2022-11-25T08:50:16.220066Z"
    },
    "tags": []
   },
   "outputs": [
    {
     "data": {
      "text/plain": [
       "array(['001', '002', '004', '006', '008', '010', '011', '012', '014',\n",
       "       '015', '017', '019', '020', '022', '024', '025', '026', '027',\n",
       "       '030', '031', '033', '034', '035', '036', '037', '038', '040',\n",
       "       '042', '044', '045', '046', '048', '049', '051', '052', '054',\n",
       "       '056', '058', '060', '062', '064', '066', '067', '068', '070',\n",
       "       '072', '074', '075', '077', '079', '080', '082', '083', '084',\n",
       "       '086', '087', '089', '091', '092', '093', '094', '095', '096'],\n",
       "      dtype=object)"
      ]
     },
     "execution_count": 57,
     "metadata": {},
     "output_type": "execute_result"
    }
   ],
   "source": [
    "new_region_code['code']"
   ]
  },
  {
   "cell_type": "markdown",
   "id": "ec69feae",
   "metadata": {},
   "source": [
    "## Take only the possible codes"
   ]
  },
  {
   "cell_type": "code",
   "execution_count": 62,
   "id": "b971a5b3",
   "metadata": {
    "execution": {
     "iopub.execute_input": "2022-11-25T08:52:01.203195Z",
     "iopub.status.busy": "2022-11-25T08:52:01.202911Z",
     "iopub.status.idle": "2022-11-25T08:52:01.206306Z",
     "shell.execute_reply": "2022-11-25T08:52:01.205855Z",
     "shell.execute_reply.started": "2022-11-25T08:52:01.203178Z"
    },
    "tags": []
   },
   "outputs": [],
   "source": [
    "possible_codes = pd.concat(\n",
    "    [new_region_code, unclean_old_region_code], ignore_index=True\n",
    ")['code'].unique()"
   ]
  },
  {
   "cell_type": "code",
   "execution_count": 64,
   "id": "a2adceba",
   "metadata": {
    "execution": {
     "iopub.execute_input": "2022-11-25T08:56:01.762608Z",
     "iopub.status.busy": "2022-11-25T08:56:01.762312Z",
     "iopub.status.idle": "2022-11-25T08:56:01.767319Z",
     "shell.execute_reply": "2022-11-25T08:56:01.766949Z",
     "shell.execute_reply.started": "2022-11-25T08:56:01.762590Z"
    },
    "tags": []
   },
   "outputs": [
    {
     "data": {
      "text/plain": [
       "(63, 1)"
      ]
     },
     "execution_count": 64,
     "metadata": {},
     "output_type": "execute_result"
    }
   ],
   "source": [
    "new_codes = new_region_code[['code']].drop_duplicates()\n",
    "new_codes.shape"
   ]
  },
  {
   "cell_type": "code",
   "execution_count": 69,
   "id": "d502896d",
   "metadata": {
    "execution": {
     "iopub.execute_input": "2022-11-25T08:58:04.124559Z",
     "iopub.status.busy": "2022-11-25T08:58:04.124214Z",
     "iopub.status.idle": "2022-11-25T08:58:04.647070Z",
     "shell.execute_reply": "2022-11-25T08:58:04.646634Z",
     "shell.execute_reply.started": "2022-11-25T08:58:04.124539Z"
    }
   },
   "outputs": [],
   "source": [
    "new_codes.to_parquet('./data/public/card_id/new_codes.parquet')"
   ]
  },
  {
   "cell_type": "code",
   "execution_count": 65,
   "id": "10da76a4",
   "metadata": {
    "execution": {
     "iopub.execute_input": "2022-11-25T08:56:22.256390Z",
     "iopub.status.busy": "2022-11-25T08:56:22.256086Z",
     "iopub.status.idle": "2022-11-25T08:56:22.261184Z",
     "shell.execute_reply": "2022-11-25T08:56:22.260800Z",
     "shell.execute_reply.started": "2022-11-25T08:56:22.256371Z"
    }
   },
   "outputs": [
    {
     "data": {
      "text/plain": [
       "(47, 1)"
      ]
     },
     "execution_count": 65,
     "metadata": {},
     "output_type": "execute_result"
    }
   ],
   "source": [
    "old_codes = unclean_old_region_code[['code']].drop_duplicates()\n",
    "old_codes.shape"
   ]
  },
  {
   "cell_type": "code",
   "execution_count": 72,
   "id": "f5ee1c93",
   "metadata": {
    "execution": {
     "iopub.execute_input": "2022-11-25T08:59:58.879810Z",
     "iopub.status.busy": "2022-11-25T08:59:58.879503Z",
     "iopub.status.idle": "2022-11-25T08:59:58.882453Z",
     "shell.execute_reply": "2022-11-25T08:59:58.882019Z",
     "shell.execute_reply.started": "2022-11-25T08:59:58.879785Z"
    }
   },
   "outputs": [],
   "source": [
    "old_codes = old_codes.astype(str)"
   ]
  },
  {
   "cell_type": "code",
   "execution_count": 73,
   "id": "219c02ba",
   "metadata": {
    "execution": {
     "iopub.execute_input": "2022-11-25T09:00:01.360053Z",
     "iopub.status.busy": "2022-11-25T09:00:01.359753Z",
     "iopub.status.idle": "2022-11-25T09:00:01.434740Z",
     "shell.execute_reply": "2022-11-25T09:00:01.434328Z",
     "shell.execute_reply.started": "2022-11-25T09:00:01.360036Z"
    },
    "tags": []
   },
   "outputs": [],
   "source": [
    "old_codes.to_parquet('./data/public/card_id/old_codes.parquet')"
   ]
  },
  {
   "cell_type": "markdown",
   "id": "4a44ab4b",
   "metadata": {},
   "source": [
    "# Function to verify card_id"
   ]
  },
  {
   "cell_type": "markdown",
   "id": "5c691e38",
   "metadata": {},
   "source": [
    "## Sep card by length"
   ]
  },
  {
   "cell_type": "code",
   "execution_count": 100,
   "id": "bed9c6d3",
   "metadata": {
    "execution": {
     "iopub.execute_input": "2022-11-25T09:21:12.745657Z",
     "iopub.status.busy": "2022-11-25T09:21:12.744972Z",
     "iopub.status.idle": "2022-11-25T09:21:12.748155Z",
     "shell.execute_reply": "2022-11-25T09:21:12.747665Z",
     "shell.execute_reply.started": "2022-11-25T09:21:12.745635Z"
    }
   },
   "outputs": [],
   "source": [
    "from string import ascii_lowercase"
   ]
  },
  {
   "cell_type": "code",
   "execution_count": 99,
   "id": "0d987f1e",
   "metadata": {
    "execution": {
     "iopub.execute_input": "2022-11-25T09:20:39.001600Z",
     "iopub.status.busy": "2022-11-25T09:20:39.001221Z",
     "iopub.status.idle": "2022-11-25T09:20:39.005245Z",
     "shell.execute_reply": "2022-11-25T09:20:39.004779Z",
     "shell.execute_reply.started": "2022-11-25T09:20:39.001580Z"
    }
   },
   "outputs": [
    {
     "data": {
      "text/plain": [
       "(5978928, 2)"
      ]
     },
     "execution_count": 99,
     "metadata": {},
     "output_type": "execute_result"
    }
   ],
   "source": [
    "card_id.shape"
   ]
  },
  {
   "cell_type": "code",
   "execution_count": 101,
   "id": "513c5960",
   "metadata": {
    "execution": {
     "iopub.execute_input": "2022-11-25T09:21:38.229047Z",
     "iopub.status.busy": "2022-11-25T09:21:38.228347Z",
     "iopub.status.idle": "2022-11-25T09:21:39.001166Z",
     "shell.execute_reply": "2022-11-25T09:21:39.000543Z",
     "shell.execute_reply.started": "2022-11-25T09:21:38.229024Z"
    },
    "tags": []
   },
   "outputs": [],
   "source": [
    "card_id['id_card'] = card_id['id_card'].str.lower()"
   ]
  },
  {
   "cell_type": "code",
   "execution_count": 104,
   "id": "6fbb123a",
   "metadata": {
    "execution": {
     "iopub.execute_input": "2022-11-25T09:23:20.947404Z",
     "iopub.status.busy": "2022-11-25T09:23:20.946738Z",
     "iopub.status.idle": "2022-11-25T09:23:20.949970Z",
     "shell.execute_reply": "2022-11-25T09:23:20.949482Z",
     "shell.execute_reply.started": "2022-11-25T09:23:20.947382Z"
    },
    "tags": []
   },
   "outputs": [],
   "source": [
    "regex_alpha = '|'.join(list(ascii_lowercase))"
   ]
  },
  {
   "cell_type": "code",
   "execution_count": 105,
   "id": "ff3e6219",
   "metadata": {
    "execution": {
     "iopub.execute_input": "2022-11-25T09:23:28.693534Z",
     "iopub.status.busy": "2022-11-25T09:23:28.692927Z",
     "iopub.status.idle": "2022-11-25T09:23:28.696801Z",
     "shell.execute_reply": "2022-11-25T09:23:28.696329Z",
     "shell.execute_reply.started": "2022-11-25T09:23:28.693514Z"
    }
   },
   "outputs": [
    {
     "data": {
      "text/plain": [
       "'a|b|c|d|e|f|g|h|i|j|k|l|m|n|o|p|q|r|s|t|u|v|w|x|y|z'"
      ]
     },
     "execution_count": 105,
     "metadata": {},
     "output_type": "execute_result"
    }
   ],
   "source": [
    "regex_alpha"
   ]
  },
  {
   "cell_type": "code",
   "execution_count": 111,
   "id": "a833d2da",
   "metadata": {
    "execution": {
     "iopub.execute_input": "2022-11-25T09:26:25.867305Z",
     "iopub.status.busy": "2022-11-25T09:26:25.866610Z",
     "iopub.status.idle": "2022-11-25T09:26:27.636060Z",
     "shell.execute_reply": "2022-11-25T09:26:27.635448Z",
     "shell.execute_reply.started": "2022-11-25T09:26:25.867283Z"
    }
   },
   "outputs": [],
   "source": [
    "non_full_digit_mask = card_id['id_card'].str.contains(regex_alpha)"
   ]
  },
  {
   "cell_type": "code",
   "execution_count": 112,
   "id": "1e605926",
   "metadata": {
    "execution": {
     "iopub.execute_input": "2022-11-25T09:26:37.913172Z",
     "iopub.status.busy": "2022-11-25T09:26:37.912556Z",
     "iopub.status.idle": "2022-11-25T09:26:37.917536Z",
     "shell.execute_reply": "2022-11-25T09:26:37.917037Z",
     "shell.execute_reply.started": "2022-11-25T09:26:37.913152Z"
    },
    "tags": []
   },
   "outputs": [],
   "source": [
    "card_id.loc[\n",
    "    non_full_digit_mask,\n",
    "    'is_valid'\n",
    "] = False"
   ]
  },
  {
   "cell_type": "code",
   "execution_count": 113,
   "id": "d7074c6b",
   "metadata": {
    "execution": {
     "iopub.execute_input": "2022-11-25T09:26:53.267742Z",
     "iopub.status.busy": "2022-11-25T09:26:53.267058Z",
     "iopub.status.idle": "2022-11-25T09:26:53.273726Z",
     "shell.execute_reply": "2022-11-25T09:26:53.273255Z",
     "shell.execute_reply.started": "2022-11-25T09:26:53.267718Z"
    }
   },
   "outputs": [
    {
     "data": {
      "text/plain": [
       "7381"
      ]
     },
     "execution_count": 113,
     "metadata": {},
     "output_type": "execute_result"
    }
   ],
   "source": [
    "non_full_digit_mask.sum()"
   ]
  },
  {
   "cell_type": "markdown",
   "id": "e0c1eed5",
   "metadata": {},
   "source": [
    "## Clean non-digit card"
   ]
  },
  {
   "cell_type": "code",
   "execution_count": 76,
   "id": "44d77668",
   "metadata": {
    "execution": {
     "iopub.execute_input": "2022-11-25T09:02:05.154817Z",
     "iopub.status.busy": "2022-11-25T09:02:05.154404Z",
     "iopub.status.idle": "2022-11-25T09:02:06.447365Z",
     "shell.execute_reply": "2022-11-25T09:02:06.446820Z",
     "shell.execute_reply.started": "2022-11-25T09:02:05.154798Z"
    }
   },
   "outputs": [],
   "source": [
    "card_id['card_length'] = card_id['id_card'].str.len()"
   ]
  },
  {
   "cell_type": "code",
   "execution_count": 124,
   "id": "84fcdef1",
   "metadata": {
    "execution": {
     "iopub.execute_input": "2022-11-25T09:32:24.553538Z",
     "iopub.status.busy": "2022-11-25T09:32:24.553048Z",
     "iopub.status.idle": "2022-11-25T09:32:24.890983Z",
     "shell.execute_reply": "2022-11-25T09:32:24.890376Z",
     "shell.execute_reply.started": "2022-11-25T09:32:24.553517Z"
    },
    "tags": []
   },
   "outputs": [
    {
     "name": "stdout",
     "output_type": "stream",
     "text": [
      "(5891246, 3)\n"
     ]
    },
    {
     "data": {
      "text/html": [
       "<div>\n",
       "<style scoped>\n",
       "    .dataframe tbody tr th:only-of-type {\n",
       "        vertical-align: middle;\n",
       "    }\n",
       "\n",
       "    .dataframe tbody tr th {\n",
       "        vertical-align: top;\n",
       "    }\n",
       "\n",
       "    .dataframe thead th {\n",
       "        text-align: right;\n",
       "    }\n",
       "</style>\n",
       "<table border=\"1\" class=\"dataframe\">\n",
       "  <thead>\n",
       "    <tr style=\"text-align: right;\">\n",
       "      <th></th>\n",
       "      <th>id_card</th>\n",
       "      <th>card_length</th>\n",
       "      <th>is_valid</th>\n",
       "    </tr>\n",
       "  </thead>\n",
       "  <tbody>\n",
       "    <tr>\n",
       "      <th>0</th>\n",
       "      <td>035092001221</td>\n",
       "      <td>12</td>\n",
       "      <td>NaN</td>\n",
       "    </tr>\n",
       "    <tr>\n",
       "      <th>1</th>\n",
       "      <td>142267087</td>\n",
       "      <td>9</td>\n",
       "      <td>NaN</td>\n",
       "    </tr>\n",
       "    <tr>\n",
       "      <th>2</th>\n",
       "      <td>151536372</td>\n",
       "      <td>9</td>\n",
       "      <td>NaN</td>\n",
       "    </tr>\n",
       "  </tbody>\n",
       "</table>\n",
       "</div>"
      ],
      "text/plain": [
       "        id_card  card_length is_valid\n",
       "0  035092001221           12      NaN\n",
       "1     142267087            9      NaN\n",
       "2     151536372            9      NaN"
      ]
     },
     "execution_count": 124,
     "metadata": {},
     "output_type": "execute_result"
    }
   ],
   "source": [
    "correct_card_mask = (card_id['card_length'].isin([12, 9]) & card_id['is_valid'].isna())\n",
    "correct_card_id = card_id[correct_card_mask]\n",
    "print(correct_card_id.shape)\n",
    "correct_card_id.head(3)"
   ]
  },
  {
   "cell_type": "code",
   "execution_count": 125,
   "id": "065ae1b4",
   "metadata": {
    "execution": {
     "iopub.execute_input": "2022-11-25T09:32:27.028255Z",
     "iopub.status.busy": "2022-11-25T09:32:27.027960Z",
     "iopub.status.idle": "2022-11-25T09:32:27.166506Z",
     "shell.execute_reply": "2022-11-25T09:32:27.166015Z",
     "shell.execute_reply.started": "2022-11-25T09:32:27.028236Z"
    },
    "tags": []
   },
   "outputs": [
    {
     "name": "stdout",
     "output_type": "stream",
     "text": [
      "(889, 3)\n"
     ]
    },
    {
     "data": {
      "text/html": [
       "<div>\n",
       "<style scoped>\n",
       "    .dataframe tbody tr th:only-of-type {\n",
       "        vertical-align: middle;\n",
       "    }\n",
       "\n",
       "    .dataframe tbody tr th {\n",
       "        vertical-align: top;\n",
       "    }\n",
       "\n",
       "    .dataframe thead th {\n",
       "        text-align: right;\n",
       "    }\n",
       "</style>\n",
       "<table border=\"1\" class=\"dataframe\">\n",
       "  <thead>\n",
       "    <tr style=\"text-align: right;\">\n",
       "      <th></th>\n",
       "      <th>id_card</th>\n",
       "      <th>card_length</th>\n",
       "      <th>is_valid</th>\n",
       "    </tr>\n",
       "  </thead>\n",
       "  <tbody>\n",
       "    <tr>\n",
       "      <th>79939</th>\n",
       "      <td>33197000188</td>\n",
       "      <td>11</td>\n",
       "      <td>NaN</td>\n",
       "    </tr>\n",
       "    <tr>\n",
       "      <th>84042</th>\n",
       "      <td>22195002375</td>\n",
       "      <td>11</td>\n",
       "      <td>NaN</td>\n",
       "    </tr>\n",
       "    <tr>\n",
       "      <th>94701</th>\n",
       "      <td>72199004702</td>\n",
       "      <td>11</td>\n",
       "      <td>NaN</td>\n",
       "    </tr>\n",
       "  </tbody>\n",
       "</table>\n",
       "</div>"
      ],
      "text/plain": [
       "           id_card  card_length is_valid\n",
       "79939  33197000188           11      NaN\n",
       "84042  22195002375           11      NaN\n",
       "94701  72199004702           11      NaN"
      ]
     },
     "execution_count": 125,
     "metadata": {},
     "output_type": "execute_result"
    }
   ],
   "source": [
    "possible_card_mask = (card_id['card_length'].isin([11, 8]) & card_id['is_valid'].isna())\n",
    "possible_card_id = card_id[possible_card_mask].copy()\n",
    "print(possible_card_id.shape)\n",
    "possible_card_id.head(3)"
   ]
  },
  {
   "cell_type": "code",
   "execution_count": 129,
   "id": "4212e133",
   "metadata": {
    "execution": {
     "iopub.execute_input": "2022-11-25T09:45:00.821143Z",
     "iopub.status.busy": "2022-11-25T09:45:00.820795Z",
     "iopub.status.idle": "2022-11-25T09:45:00.825051Z",
     "shell.execute_reply": "2022-11-25T09:45:00.824572Z",
     "shell.execute_reply.started": "2022-11-25T09:45:00.821123Z"
    }
   },
   "outputs": [],
   "source": [
    "#! Run once\n",
    "possible_card_id['clean_id_card'] = '0' + possible_card_id['id_card']"
   ]
  },
  {
   "cell_type": "code",
   "execution_count": 131,
   "id": "d68f283e",
   "metadata": {
    "execution": {
     "iopub.execute_input": "2022-11-25T09:45:26.488736Z",
     "iopub.status.busy": "2022-11-25T09:45:26.488426Z",
     "iopub.status.idle": "2022-11-25T09:45:26.495970Z",
     "shell.execute_reply": "2022-11-25T09:45:26.495526Z",
     "shell.execute_reply.started": "2022-11-25T09:45:26.488716Z"
    }
   },
   "outputs": [
    {
     "data": {
      "text/html": [
       "<div>\n",
       "<style scoped>\n",
       "    .dataframe tbody tr th:only-of-type {\n",
       "        vertical-align: middle;\n",
       "    }\n",
       "\n",
       "    .dataframe tbody tr th {\n",
       "        vertical-align: top;\n",
       "    }\n",
       "\n",
       "    .dataframe thead th {\n",
       "        text-align: right;\n",
       "    }\n",
       "</style>\n",
       "<table border=\"1\" class=\"dataframe\">\n",
       "  <thead>\n",
       "    <tr style=\"text-align: right;\">\n",
       "      <th></th>\n",
       "      <th>id_card</th>\n",
       "      <th>card_length</th>\n",
       "      <th>is_valid</th>\n",
       "      <th>clean_id_card</th>\n",
       "    </tr>\n",
       "  </thead>\n",
       "  <tbody>\n",
       "    <tr>\n",
       "      <th>79939</th>\n",
       "      <td>33197000188</td>\n",
       "      <td>11</td>\n",
       "      <td>NaN</td>\n",
       "      <td>033197000188</td>\n",
       "    </tr>\n",
       "    <tr>\n",
       "      <th>84042</th>\n",
       "      <td>22195002375</td>\n",
       "      <td>11</td>\n",
       "      <td>NaN</td>\n",
       "      <td>022195002375</td>\n",
       "    </tr>\n",
       "    <tr>\n",
       "      <th>94701</th>\n",
       "      <td>72199004702</td>\n",
       "      <td>11</td>\n",
       "      <td>NaN</td>\n",
       "      <td>072199004702</td>\n",
       "    </tr>\n",
       "    <tr>\n",
       "      <th>110659</th>\n",
       "      <td>72099005973</td>\n",
       "      <td>11</td>\n",
       "      <td>NaN</td>\n",
       "      <td>072099005973</td>\n",
       "    </tr>\n",
       "    <tr>\n",
       "      <th>116559</th>\n",
       "      <td>30197010037</td>\n",
       "      <td>11</td>\n",
       "      <td>NaN</td>\n",
       "      <td>030197010037</td>\n",
       "    </tr>\n",
       "    <tr>\n",
       "      <th>...</th>\n",
       "      <td>...</td>\n",
       "      <td>...</td>\n",
       "      <td>...</td>\n",
       "      <td>...</td>\n",
       "    </tr>\n",
       "    <tr>\n",
       "      <th>6808577</th>\n",
       "      <td>74301001505</td>\n",
       "      <td>11</td>\n",
       "      <td>NaN</td>\n",
       "      <td>074301001505</td>\n",
       "    </tr>\n",
       "    <tr>\n",
       "      <th>6808593</th>\n",
       "      <td>74092004265</td>\n",
       "      <td>11</td>\n",
       "      <td>NaN</td>\n",
       "      <td>074092004265</td>\n",
       "    </tr>\n",
       "    <tr>\n",
       "      <th>6809995</th>\n",
       "      <td>68099001275</td>\n",
       "      <td>11</td>\n",
       "      <td>NaN</td>\n",
       "      <td>068099001275</td>\n",
       "    </tr>\n",
       "    <tr>\n",
       "      <th>6810197</th>\n",
       "      <td>80194012761</td>\n",
       "      <td>11</td>\n",
       "      <td>NaN</td>\n",
       "      <td>080194012761</td>\n",
       "    </tr>\n",
       "    <tr>\n",
       "      <th>6810563</th>\n",
       "      <td>09619806345</td>\n",
       "      <td>11</td>\n",
       "      <td>NaN</td>\n",
       "      <td>009619806345</td>\n",
       "    </tr>\n",
       "  </tbody>\n",
       "</table>\n",
       "<p>889 rows × 4 columns</p>\n",
       "</div>"
      ],
      "text/plain": [
       "             id_card  card_length is_valid clean_id_card\n",
       "79939    33197000188           11      NaN  033197000188\n",
       "84042    22195002375           11      NaN  022195002375\n",
       "94701    72199004702           11      NaN  072199004702\n",
       "110659   72099005973           11      NaN  072099005973\n",
       "116559   30197010037           11      NaN  030197010037\n",
       "...              ...          ...      ...           ...\n",
       "6808577  74301001505           11      NaN  074301001505\n",
       "6808593  74092004265           11      NaN  074092004265\n",
       "6809995  68099001275           11      NaN  068099001275\n",
       "6810197  80194012761           11      NaN  080194012761\n",
       "6810563  09619806345           11      NaN  009619806345\n",
       "\n",
       "[889 rows x 4 columns]"
      ]
     },
     "execution_count": 131,
     "metadata": {},
     "output_type": "execute_result"
    }
   ],
   "source": [
    "possible_card_id"
   ]
  },
  {
   "cell_type": "code",
   "execution_count": 126,
   "id": "a7069a25",
   "metadata": {
    "execution": {
     "iopub.execute_input": "2022-11-25T09:32:28.583799Z",
     "iopub.status.busy": "2022-11-25T09:32:28.583512Z",
     "iopub.status.idle": "2022-11-25T09:32:28.590009Z",
     "shell.execute_reply": "2022-11-25T09:32:28.589513Z",
     "shell.execute_reply.started": "2022-11-25T09:32:28.583776Z"
    },
    "tags": []
   },
   "outputs": [],
   "source": [
    "invalid_length_card = ~(correct_card_mask | possible_card_mask)"
   ]
  },
  {
   "cell_type": "code",
   "execution_count": 127,
   "id": "169ad02a",
   "metadata": {
    "execution": {
     "iopub.execute_input": "2022-11-25T09:32:28.853388Z",
     "iopub.status.busy": "2022-11-25T09:32:28.853046Z",
     "iopub.status.idle": "2022-11-25T09:32:29.232494Z",
     "shell.execute_reply": "2022-11-25T09:32:29.231967Z",
     "shell.execute_reply.started": "2022-11-25T09:32:28.853372Z"
    },
    "tags": []
   },
   "outputs": [],
   "source": [
    "card_id.loc[\n",
    "    ~(correct_card_mask | possible_card_mask),\n",
    "    'is_valid'\n",
    "] = False"
   ]
  },
  {
   "cell_type": "code",
   "execution_count": 128,
   "id": "3b8a6be5",
   "metadata": {
    "execution": {
     "iopub.execute_input": "2022-11-25T09:32:29.233690Z",
     "iopub.status.busy": "2022-11-25T09:32:29.233350Z",
     "iopub.status.idle": "2022-11-25T09:32:29.419874Z",
     "shell.execute_reply": "2022-11-25T09:32:29.419448Z",
     "shell.execute_reply.started": "2022-11-25T09:32:29.233674Z"
    },
    "tags": []
   },
   "outputs": [
    {
     "data": {
      "text/plain": [
       "86793"
      ]
     },
     "execution_count": 128,
     "metadata": {},
     "output_type": "execute_result"
    }
   ],
   "source": [
    "invalid_length_card.sum()"
   ]
  },
  {
   "cell_type": "code",
   "execution_count": 122,
   "id": "47cfa6f8",
   "metadata": {
    "execution": {
     "iopub.execute_input": "2022-11-25T09:31:59.684196Z",
     "iopub.status.busy": "2022-11-25T09:31:59.683646Z",
     "iopub.status.idle": "2022-11-25T09:31:59.687593Z",
     "shell.execute_reply": "2022-11-25T09:31:59.687201Z",
     "shell.execute_reply.started": "2022-11-25T09:31:59.684174Z"
    },
    "tags": []
   },
   "outputs": [
    {
     "data": {
      "text/plain": [
       "True"
      ]
     },
     "execution_count": 122,
     "metadata": {},
     "output_type": "execute_result"
    }
   ],
   "source": [
    "5891246+889+86793 == card_id.shape[0]"
   ]
  },
  {
   "cell_type": "markdown",
   "id": "120cc8e8",
   "metadata": {},
   "source": [
    "## Check card id by logic"
   ]
  },
  {
   "cell_type": "code",
   "execution_count": 95,
   "id": "f6c6ecef",
   "metadata": {
    "execution": {
     "iopub.execute_input": "2022-11-25T09:18:20.461438Z",
     "iopub.status.busy": "2022-11-25T09:18:20.460748Z",
     "iopub.status.idle": "2022-11-25T09:18:20.464002Z",
     "shell.execute_reply": "2022-11-25T09:18:20.463501Z",
     "shell.execute_reply.started": "2022-11-25T09:18:20.461415Z"
    },
    "tags": []
   },
   "outputs": [],
   "source": [
    "POSSIBLE_GENDER_NUM = ['0', '1', '2', '3']"
   ]
  },
  {
   "cell_type": "code",
   "execution_count": 94,
   "id": "0d46bbf5",
   "metadata": {
    "execution": {
     "iopub.execute_input": "2022-11-25T09:18:18.041058Z",
     "iopub.status.busy": "2022-11-25T09:18:18.040351Z",
     "iopub.status.idle": "2022-11-25T09:18:18.043690Z",
     "shell.execute_reply": "2022-11-25T09:18:18.043180Z",
     "shell.execute_reply.started": "2022-11-25T09:18:18.041035Z"
    },
    "tags": []
   },
   "outputs": [],
   "source": [
    "NEW_CODE_NUM = new_codes['code'].values"
   ]
  },
  {
   "cell_type": "code",
   "execution_count": 97,
   "id": "ca837e0e",
   "metadata": {
    "execution": {
     "iopub.execute_input": "2022-11-25T09:18:39.199664Z",
     "iopub.status.busy": "2022-11-25T09:18:39.199279Z",
     "iopub.status.idle": "2022-11-25T09:18:39.202569Z",
     "shell.execute_reply": "2022-11-25T09:18:39.202071Z",
     "shell.execute_reply.started": "2022-11-25T09:18:39.199644Z"
    },
    "tags": []
   },
   "outputs": [],
   "source": [
    "OLD_CODE_NUM = old_codes['code'].values"
   ]
  },
  {
   "cell_type": "code",
   "execution_count": 134,
   "id": "a7d53949",
   "metadata": {
    "execution": {
     "iopub.execute_input": "2022-11-25T09:49:08.637350Z",
     "iopub.status.busy": "2022-11-25T09:49:08.637057Z",
     "iopub.status.idle": "2022-11-25T09:49:08.639965Z",
     "shell.execute_reply": "2022-11-25T09:49:08.639497Z",
     "shell.execute_reply.started": "2022-11-25T09:49:08.637332Z"
    }
   },
   "outputs": [],
   "source": [
    "OLD_CODE_LENGTH = 9"
   ]
  },
  {
   "cell_type": "code",
   "execution_count": 135,
   "id": "bc5462c8",
   "metadata": {
    "execution": {
     "iopub.execute_input": "2022-11-25T09:49:15.614158Z",
     "iopub.status.busy": "2022-11-25T09:49:15.613858Z",
     "iopub.status.idle": "2022-11-25T09:49:15.616753Z",
     "shell.execute_reply": "2022-11-25T09:49:15.616291Z",
     "shell.execute_reply.started": "2022-11-25T09:49:15.614140Z"
    }
   },
   "outputs": [],
   "source": [
    "NEW_CODE_LENGTH = 12"
   ]
  },
  {
   "cell_type": "markdown",
   "id": "45bbe37d",
   "metadata": {},
   "source": [
    "### Define logic"
   ]
  },
  {
   "cell_type": "code",
   "execution_count": 141,
   "id": "5dcb2ac6",
   "metadata": {
    "execution": {
     "iopub.execute_input": "2022-11-25T10:01:32.406842Z",
     "iopub.status.busy": "2022-11-25T10:01:32.406540Z",
     "iopub.status.idle": "2022-11-25T10:01:32.409799Z",
     "shell.execute_reply": "2022-11-25T10:01:32.409176Z",
     "shell.execute_reply.started": "2022-11-25T10:01:32.406823Z"
    }
   },
   "outputs": [],
   "source": [
    "def is_old_card(card_id: str) -> bool:\n",
    "    return len(card_id) == OLD_CODE_LENGTH"
   ]
  },
  {
   "cell_type": "code",
   "execution_count": 155,
   "id": "a02652ac",
   "metadata": {
    "execution": {
     "iopub.execute_input": "2022-11-25T10:12:11.852134Z",
     "iopub.status.busy": "2022-11-25T10:12:11.851830Z",
     "iopub.status.idle": "2022-11-25T10:12:11.854811Z",
     "shell.execute_reply": "2022-11-25T10:12:11.854403Z",
     "shell.execute_reply.started": "2022-11-25T10:12:11.852116Z"
    }
   },
   "outputs": [],
   "source": [
    "def is_new_card(card_id: str) -> bool:\n",
    "    return len(card_id) == NEW_CODE_LENGTH"
   ]
  },
  {
   "cell_type": "code",
   "execution_count": 142,
   "id": "9ded2fbf",
   "metadata": {
    "execution": {
     "iopub.execute_input": "2022-11-25T10:01:32.601728Z",
     "iopub.status.busy": "2022-11-25T10:01:32.601439Z",
     "iopub.status.idle": "2022-11-25T10:01:32.639588Z",
     "shell.execute_reply": "2022-11-25T10:01:32.639148Z",
     "shell.execute_reply.started": "2022-11-25T10:01:32.601712Z"
    }
   },
   "outputs": [],
   "source": [
    "def is_valid_gender(gender_code: str) -> bool:\n",
    "    return gender_code in POSSIBLE_GENDER_NUM"
   ]
  },
  {
   "cell_type": "code",
   "execution_count": 143,
   "id": "18463d30",
   "metadata": {
    "execution": {
     "iopub.execute_input": "2022-11-25T10:01:32.752659Z",
     "iopub.status.busy": "2022-11-25T10:01:32.752379Z",
     "iopub.status.idle": "2022-11-25T10:01:33.131672Z",
     "shell.execute_reply": "2022-11-25T10:01:33.131186Z",
     "shell.execute_reply.started": "2022-11-25T10:01:32.752643Z"
    },
    "tags": []
   },
   "outputs": [],
   "source": [
    "def is_valid_old_card(card_id: str) -> bool:\n",
    "    if card_id[:2] in OLD_CODE_NUM:\n",
    "        gender_code = card_id[2]\n",
    "        return is_valid_gender(gender_code)\n",
    "    \n",
    "    if card_id[:3] in OLD_CODE_NUM:\n",
    "        gender_code = card_id[3]\n",
    "        return is_valid_gender(gender_code)\n",
    "    \n",
    "    return False"
   ]
  },
  {
   "cell_type": "code",
   "execution_count": 144,
   "id": "90d1b9f7",
   "metadata": {
    "execution": {
     "iopub.execute_input": "2022-11-25T10:01:33.133111Z",
     "iopub.status.busy": "2022-11-25T10:01:33.132698Z",
     "iopub.status.idle": "2022-11-25T10:01:33.429524Z",
     "shell.execute_reply": "2022-11-25T10:01:33.429079Z",
     "shell.execute_reply.started": "2022-11-25T10:01:33.133084Z"
    },
    "tags": []
   },
   "outputs": [],
   "source": [
    "def is_valid_new_card(card_id: str) -> bool:\n",
    "    if card_id[:3] in NEW_CODE_NUM:\n",
    "        gender_code = card_id[3]\n",
    "        return is_valid_gender(gender_code)\n",
    "    \n",
    "    return False"
   ]
  },
  {
   "cell_type": "code",
   "execution_count": 145,
   "id": "5d928e36",
   "metadata": {
    "execution": {
     "iopub.execute_input": "2022-11-25T10:01:33.838280Z",
     "iopub.status.busy": "2022-11-25T10:01:33.837985Z",
     "iopub.status.idle": "2022-11-25T10:01:33.841084Z",
     "shell.execute_reply": "2022-11-25T10:01:33.840491Z",
     "shell.execute_reply.started": "2022-11-25T10:01:33.838265Z"
    }
   },
   "outputs": [],
   "source": [
    "def is_valid_card(card_id: str) -> bool:\n",
    "    # old card\n",
    "    if is_old_card(card_id):\n",
    "        return is_valid_old_card(card_id)\n",
    "    \n",
    "    # new card\n",
    "    if is_new_card(card_id):\n",
    "        return is_valid_new_card(card_id)\n",
    "    \n",
    "    return False"
   ]
  },
  {
   "cell_type": "markdown",
   "id": "6cb86c7e",
   "metadata": {},
   "source": [
    "### Check correct_length card first"
   ]
  },
  {
   "cell_type": "code",
   "execution_count": 147,
   "id": "91b96539",
   "metadata": {
    "execution": {
     "iopub.execute_input": "2022-11-25T10:02:50.642436Z",
     "iopub.status.busy": "2022-11-25T10:02:50.642140Z",
     "iopub.status.idle": "2022-11-25T10:02:50.648714Z",
     "shell.execute_reply": "2022-11-25T10:02:50.648106Z",
     "shell.execute_reply.started": "2022-11-25T10:02:50.642419Z"
    },
    "tags": []
   },
   "outputs": [
    {
     "data": {
      "text/html": [
       "<div>\n",
       "<style scoped>\n",
       "    .dataframe tbody tr th:only-of-type {\n",
       "        vertical-align: middle;\n",
       "    }\n",
       "\n",
       "    .dataframe tbody tr th {\n",
       "        vertical-align: top;\n",
       "    }\n",
       "\n",
       "    .dataframe thead th {\n",
       "        text-align: right;\n",
       "    }\n",
       "</style>\n",
       "<table border=\"1\" class=\"dataframe\">\n",
       "  <thead>\n",
       "    <tr style=\"text-align: right;\">\n",
       "      <th></th>\n",
       "      <th>id_card</th>\n",
       "      <th>card_length</th>\n",
       "      <th>is_valid</th>\n",
       "    </tr>\n",
       "  </thead>\n",
       "  <tbody>\n",
       "    <tr>\n",
       "      <th>0</th>\n",
       "      <td>035092001221</td>\n",
       "      <td>12</td>\n",
       "      <td>NaN</td>\n",
       "    </tr>\n",
       "    <tr>\n",
       "      <th>1</th>\n",
       "      <td>142267087</td>\n",
       "      <td>9</td>\n",
       "      <td>NaN</td>\n",
       "    </tr>\n",
       "    <tr>\n",
       "      <th>2</th>\n",
       "      <td>151536372</td>\n",
       "      <td>9</td>\n",
       "      <td>NaN</td>\n",
       "    </tr>\n",
       "  </tbody>\n",
       "</table>\n",
       "</div>"
      ],
      "text/plain": [
       "        id_card  card_length is_valid\n",
       "0  035092001221           12      NaN\n",
       "1     142267087            9      NaN\n",
       "2     151536372            9      NaN"
      ]
     },
     "execution_count": 147,
     "metadata": {},
     "output_type": "execute_result"
    }
   ],
   "source": [
    "correct_card_id.head(3)"
   ]
  },
  {
   "cell_type": "code",
   "execution_count": 149,
   "id": "852ebb65",
   "metadata": {
    "execution": {
     "iopub.execute_input": "2022-11-25T10:04:06.598926Z",
     "iopub.status.busy": "2022-11-25T10:04:06.598268Z",
     "iopub.status.idle": "2022-11-25T10:04:09.587201Z",
     "shell.execute_reply": "2022-11-25T10:04:09.585915Z",
     "shell.execute_reply.started": "2022-11-25T10:04:06.598902Z"
    },
    "tags": []
   },
   "outputs": [],
   "source": [
    "with mp.Pool(NPROCESSES) as pool:\n",
    "    correct_card_id['is_card_valid'] = pool.map(is_valid_card, correct_card_id['id_card'])"
   ]
  },
  {
   "cell_type": "code",
   "execution_count": 151,
   "id": "6f0b74e9",
   "metadata": {
    "execution": {
     "iopub.execute_input": "2022-11-25T10:04:37.061272Z",
     "iopub.status.busy": "2022-11-25T10:04:37.060975Z",
     "iopub.status.idle": "2022-11-25T10:04:37.137535Z",
     "shell.execute_reply": "2022-11-25T10:04:37.137161Z",
     "shell.execute_reply.started": "2022-11-25T10:04:37.061255Z"
    },
    "tags": []
   },
   "outputs": [
    {
     "data": {
      "text/plain": [
       "True     4483551\n",
       "False    1407695\n",
       "Name: is_card_valid, dtype: int64"
      ]
     },
     "execution_count": 151,
     "metadata": {},
     "output_type": "execute_result"
    }
   ],
   "source": [
    "correct_card_id['is_card_valid'].value_counts()"
   ]
  },
  {
   "cell_type": "markdown",
   "id": "6b6f3ea1",
   "metadata": {},
   "source": [
    "### Check possible_length card"
   ]
  },
  {
   "cell_type": "code",
   "execution_count": 154,
   "id": "7d0b0d4e",
   "metadata": {
    "execution": {
     "iopub.execute_input": "2022-11-25T10:10:10.434072Z",
     "iopub.status.busy": "2022-11-25T10:10:10.433745Z",
     "iopub.status.idle": "2022-11-25T10:10:10.439682Z",
     "shell.execute_reply": "2022-11-25T10:10:10.439314Z",
     "shell.execute_reply.started": "2022-11-25T10:10:10.434054Z"
    },
    "tags": []
   },
   "outputs": [
    {
     "data": {
      "text/html": [
       "<div>\n",
       "<style scoped>\n",
       "    .dataframe tbody tr th:only-of-type {\n",
       "        vertical-align: middle;\n",
       "    }\n",
       "\n",
       "    .dataframe tbody tr th {\n",
       "        vertical-align: top;\n",
       "    }\n",
       "\n",
       "    .dataframe thead th {\n",
       "        text-align: right;\n",
       "    }\n",
       "</style>\n",
       "<table border=\"1\" class=\"dataframe\">\n",
       "  <thead>\n",
       "    <tr style=\"text-align: right;\">\n",
       "      <th></th>\n",
       "      <th>id_card</th>\n",
       "      <th>card_length</th>\n",
       "      <th>is_valid</th>\n",
       "      <th>clean_id_card</th>\n",
       "    </tr>\n",
       "  </thead>\n",
       "  <tbody>\n",
       "    <tr>\n",
       "      <th>79939</th>\n",
       "      <td>33197000188</td>\n",
       "      <td>11</td>\n",
       "      <td>NaN</td>\n",
       "      <td>033197000188</td>\n",
       "    </tr>\n",
       "    <tr>\n",
       "      <th>84042</th>\n",
       "      <td>22195002375</td>\n",
       "      <td>11</td>\n",
       "      <td>NaN</td>\n",
       "      <td>022195002375</td>\n",
       "    </tr>\n",
       "    <tr>\n",
       "      <th>94701</th>\n",
       "      <td>72199004702</td>\n",
       "      <td>11</td>\n",
       "      <td>NaN</td>\n",
       "      <td>072199004702</td>\n",
       "    </tr>\n",
       "  </tbody>\n",
       "</table>\n",
       "</div>"
      ],
      "text/plain": [
       "           id_card  card_length is_valid clean_id_card\n",
       "79939  33197000188           11      NaN  033197000188\n",
       "84042  22195002375           11      NaN  022195002375\n",
       "94701  72199004702           11      NaN  072199004702"
      ]
     },
     "execution_count": 154,
     "metadata": {},
     "output_type": "execute_result"
    }
   ],
   "source": [
    "possible_card_id.head(3)"
   ]
  },
  {
   "cell_type": "code",
   "execution_count": 157,
   "id": "4e8a8094",
   "metadata": {
    "execution": {
     "iopub.execute_input": "2022-11-25T10:14:33.637637Z",
     "iopub.status.busy": "2022-11-25T10:14:33.637298Z",
     "iopub.status.idle": "2022-11-25T10:14:34.358437Z",
     "shell.execute_reply": "2022-11-25T10:14:34.357736Z",
     "shell.execute_reply.started": "2022-11-25T10:14:33.637615Z"
    },
    "tags": []
   },
   "outputs": [],
   "source": [
    "with mp.Pool(NPROCESSES) as pool:\n",
    "    possible_card_id['is_card_valid'] = pool.map(is_valid_card, possible_card_id['clean_id_card'])"
   ]
  },
  {
   "cell_type": "code",
   "execution_count": 158,
   "id": "5e807334",
   "metadata": {
    "execution": {
     "iopub.execute_input": "2022-11-25T10:14:55.594394Z",
     "iopub.status.busy": "2022-11-25T10:14:55.594023Z",
     "iopub.status.idle": "2022-11-25T10:14:55.599831Z",
     "shell.execute_reply": "2022-11-25T10:14:55.599411Z",
     "shell.execute_reply.started": "2022-11-25T10:14:55.594372Z"
    }
   },
   "outputs": [
    {
     "data": {
      "text/plain": [
       "False    472\n",
       "True     417\n",
       "Name: is_card_valid, dtype: int64"
      ]
     },
     "execution_count": 158,
     "metadata": {},
     "output_type": "execute_result"
    }
   ],
   "source": [
    "possible_card_id['is_card_valid'].value_counts()"
   ]
  },
  {
   "cell_type": "code",
   "execution_count": 159,
   "id": "f3488fa1",
   "metadata": {
    "execution": {
     "iopub.execute_input": "2022-11-25T10:15:19.909793Z",
     "iopub.status.busy": "2022-11-25T10:15:19.909478Z",
     "iopub.status.idle": "2022-11-25T10:15:19.920885Z",
     "shell.execute_reply": "2022-11-25T10:15:19.920524Z",
     "shell.execute_reply.started": "2022-11-25T10:15:19.909767Z"
    }
   },
   "outputs": [
    {
     "data": {
      "text/html": [
       "<div>\n",
       "<style scoped>\n",
       "    .dataframe tbody tr th:only-of-type {\n",
       "        vertical-align: middle;\n",
       "    }\n",
       "\n",
       "    .dataframe tbody tr th {\n",
       "        vertical-align: top;\n",
       "    }\n",
       "\n",
       "    .dataframe thead th {\n",
       "        text-align: right;\n",
       "    }\n",
       "</style>\n",
       "<table border=\"1\" class=\"dataframe\">\n",
       "  <thead>\n",
       "    <tr style=\"text-align: right;\">\n",
       "      <th></th>\n",
       "      <th>id_card</th>\n",
       "      <th>card_length</th>\n",
       "      <th>is_valid</th>\n",
       "      <th>clean_id_card</th>\n",
       "      <th>is_card_valid</th>\n",
       "    </tr>\n",
       "  </thead>\n",
       "  <tbody>\n",
       "    <tr>\n",
       "      <th>79939</th>\n",
       "      <td>33197000188</td>\n",
       "      <td>11</td>\n",
       "      <td>NaN</td>\n",
       "      <td>033197000188</td>\n",
       "      <td>True</td>\n",
       "    </tr>\n",
       "    <tr>\n",
       "      <th>84042</th>\n",
       "      <td>22195002375</td>\n",
       "      <td>11</td>\n",
       "      <td>NaN</td>\n",
       "      <td>022195002375</td>\n",
       "      <td>True</td>\n",
       "    </tr>\n",
       "    <tr>\n",
       "      <th>94701</th>\n",
       "      <td>72199004702</td>\n",
       "      <td>11</td>\n",
       "      <td>NaN</td>\n",
       "      <td>072199004702</td>\n",
       "      <td>True</td>\n",
       "    </tr>\n",
       "    <tr>\n",
       "      <th>110659</th>\n",
       "      <td>72099005973</td>\n",
       "      <td>11</td>\n",
       "      <td>NaN</td>\n",
       "      <td>072099005973</td>\n",
       "      <td>True</td>\n",
       "    </tr>\n",
       "    <tr>\n",
       "      <th>116559</th>\n",
       "      <td>30197010037</td>\n",
       "      <td>11</td>\n",
       "      <td>NaN</td>\n",
       "      <td>030197010037</td>\n",
       "      <td>True</td>\n",
       "    </tr>\n",
       "    <tr>\n",
       "      <th>...</th>\n",
       "      <td>...</td>\n",
       "      <td>...</td>\n",
       "      <td>...</td>\n",
       "      <td>...</td>\n",
       "      <td>...</td>\n",
       "    </tr>\n",
       "    <tr>\n",
       "      <th>6808569</th>\n",
       "      <td>74193001656</td>\n",
       "      <td>11</td>\n",
       "      <td>NaN</td>\n",
       "      <td>074193001656</td>\n",
       "      <td>True</td>\n",
       "    </tr>\n",
       "    <tr>\n",
       "      <th>6808577</th>\n",
       "      <td>74301001505</td>\n",
       "      <td>11</td>\n",
       "      <td>NaN</td>\n",
       "      <td>074301001505</td>\n",
       "      <td>True</td>\n",
       "    </tr>\n",
       "    <tr>\n",
       "      <th>6808593</th>\n",
       "      <td>74092004265</td>\n",
       "      <td>11</td>\n",
       "      <td>NaN</td>\n",
       "      <td>074092004265</td>\n",
       "      <td>True</td>\n",
       "    </tr>\n",
       "    <tr>\n",
       "      <th>6809995</th>\n",
       "      <td>68099001275</td>\n",
       "      <td>11</td>\n",
       "      <td>NaN</td>\n",
       "      <td>068099001275</td>\n",
       "      <td>True</td>\n",
       "    </tr>\n",
       "    <tr>\n",
       "      <th>6810197</th>\n",
       "      <td>80194012761</td>\n",
       "      <td>11</td>\n",
       "      <td>NaN</td>\n",
       "      <td>080194012761</td>\n",
       "      <td>True</td>\n",
       "    </tr>\n",
       "  </tbody>\n",
       "</table>\n",
       "<p>417 rows × 5 columns</p>\n",
       "</div>"
      ],
      "text/plain": [
       "             id_card  card_length is_valid clean_id_card  is_card_valid\n",
       "79939    33197000188           11      NaN  033197000188           True\n",
       "84042    22195002375           11      NaN  022195002375           True\n",
       "94701    72199004702           11      NaN  072199004702           True\n",
       "110659   72099005973           11      NaN  072099005973           True\n",
       "116559   30197010037           11      NaN  030197010037           True\n",
       "...              ...          ...      ...           ...            ...\n",
       "6808569  74193001656           11      NaN  074193001656           True\n",
       "6808577  74301001505           11      NaN  074301001505           True\n",
       "6808593  74092004265           11      NaN  074092004265           True\n",
       "6809995  68099001275           11      NaN  068099001275           True\n",
       "6810197  80194012761           11      NaN  080194012761           True\n",
       "\n",
       "[417 rows x 5 columns]"
      ]
     },
     "execution_count": 159,
     "metadata": {},
     "output_type": "execute_result"
    }
   ],
   "source": [
    "possible_card_id.query('is_card_valid')"
   ]
  },
  {
   "cell_type": "code",
   "execution_count": null,
   "id": "8513dcac",
   "metadata": {},
   "outputs": [],
   "source": []
  },
  {
   "cell_type": "code",
   "execution_count": null,
   "id": "2787a446",
   "metadata": {},
   "outputs": [],
   "source": []
  },
  {
   "cell_type": "code",
   "execution_count": null,
   "id": "b8e1beda",
   "metadata": {},
   "outputs": [],
   "source": []
  },
  {
   "cell_type": "code",
   "execution_count": null,
   "id": "c430fe87",
   "metadata": {},
   "outputs": [],
   "source": []
  },
  {
   "cell_type": "code",
   "execution_count": null,
   "id": "4d92b59e",
   "metadata": {},
   "outputs": [],
   "source": []
  },
  {
   "cell_type": "code",
   "execution_count": null,
   "id": "ec915572",
   "metadata": {},
   "outputs": [],
   "source": []
  },
  {
   "cell_type": "code",
   "execution_count": null,
   "id": "197f8db4",
   "metadata": {},
   "outputs": [],
   "source": []
  },
  {
   "cell_type": "code",
   "execution_count": null,
   "id": "e70ae251",
   "metadata": {},
   "outputs": [],
   "source": []
  },
  {
   "cell_type": "code",
   "execution_count": null,
   "id": "215b5aa1",
   "metadata": {},
   "outputs": [],
   "source": []
  },
  {
   "cell_type": "code",
   "execution_count": null,
   "id": "ae62aca9",
   "metadata": {},
   "outputs": [],
   "source": []
  },
  {
   "cell_type": "code",
   "execution_count": null,
   "id": "7e1a7f5a",
   "metadata": {},
   "outputs": [],
   "source": []
  },
  {
   "cell_type": "code",
   "execution_count": null,
   "id": "70dfd61e",
   "metadata": {},
   "outputs": [],
   "source": []
  },
  {
   "cell_type": "code",
   "execution_count": null,
   "id": "5a98533c",
   "metadata": {},
   "outputs": [],
   "source": []
  },
  {
   "cell_type": "code",
   "execution_count": null,
   "id": "6a9b5436",
   "metadata": {},
   "outputs": [],
   "source": []
  },
  {
   "cell_type": "code",
   "execution_count": null,
   "id": "79989a7a",
   "metadata": {},
   "outputs": [],
   "source": []
  },
  {
   "cell_type": "code",
   "execution_count": null,
   "id": "b43844a8",
   "metadata": {},
   "outputs": [],
   "source": []
  },
  {
   "cell_type": "code",
   "execution_count": null,
   "id": "6ddd2166",
   "metadata": {},
   "outputs": [],
   "source": []
  },
  {
   "cell_type": "code",
   "execution_count": null,
   "id": "bbeadd96",
   "metadata": {},
   "outputs": [],
   "source": []
  },
  {
   "cell_type": "code",
   "execution_count": null,
   "id": "739e8e15",
   "metadata": {},
   "outputs": [],
   "source": []
  },
  {
   "cell_type": "code",
   "execution_count": null,
   "id": "2a3b3abc",
   "metadata": {},
   "outputs": [],
   "source": []
  },
  {
   "cell_type": "code",
   "execution_count": null,
   "id": "1869f2d9",
   "metadata": {},
   "outputs": [],
   "source": []
  },
  {
   "cell_type": "code",
   "execution_count": null,
   "id": "426e93bb",
   "metadata": {},
   "outputs": [],
   "source": []
  },
  {
   "cell_type": "code",
   "execution_count": null,
   "id": "4a7bb243",
   "metadata": {},
   "outputs": [],
   "source": []
  }
 ],
 "metadata": {
  "kernelspec": {
   "display_name": "Renaming",
   "language": "python",
   "name": "renaming"
  },
  "language_info": {
   "codemirror_mode": {
    "name": "ipython",
    "version": 3
   },
   "file_extension": ".py",
   "mimetype": "text/x-python",
   "name": "python",
   "nbconvert_exporter": "python",
   "pygments_lexer": "ipython3",
   "version": "3.9.13"
  }
 },
 "nbformat": 4,
 "nbformat_minor": 5
}
